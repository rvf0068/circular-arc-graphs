{
 "cells": [
  {
   "cell_type": "markdown",
   "metadata": {},
   "source": [
    "### Example\n"
   ]
  },
  {
   "cell_type": "markdown",
   "metadata": {},
   "source": [
    "If  $n=6$, $k=3$, the set of maximal simplices contains $[0,3]_{6}$, $[1,4]_{6}$, $[2,5]_{6}$, $[3,6]_{6}$, $[4,7]_{6}$, $[5,8]_{6}$.\n",
    "\n",
    "$[0,3]_{6}=\\{0,1,2,3\\}$\n",
    "$[1,4]_{6}=\\{1,2,3,4\\}$\n",
    "$[2,5]_{6}=\\{2,3,4,5\\}$\n",
    "$[3,6]_{6}=\\{3,4,5,0\\}$\n",
    "$[4,7]_{6}=\\{4,5,0,1\\}$\n",
    "$[5,8]_{6}=\\{5,0,1,2\\}$\n",
    "\n",
    "$U_{0}=\\Delta$, $M_{0}=\\emptyset$.\n",
    "$S_{1}=\\{\\{1,2,3\\},\\{3,4,5\\},\\{4,5,1\\},\\{5,1,2\\},\\ldots\\}$ and its subsets.\n",
    "$U_{1}=\\{\\{1,2,3,4\\},\\{2,3,4,5\\},\\{1,2,4\\},\\{1,3,4\\},\\{2,3,4\\},\\{2,3,5\\},\\{2,4,5\\},\\{2,4\\}\\}  $\n",
    "$S_{2}=\\{\\{2,3,4\\},\\{2,4\\}\\}$\n",
    "$U_{2}=\\{\\{2,3,4,5\\},\\{1,3,4\\},\\{2,3,5\\},\\{2,4,5\\}\\}$\n",
    "$S_{3}=\\emptyset$\n",
    "$U_{3}=U_{2}$\n",
    "$S_{4}=\\{2,4,5\\}$\n",
    "$U_{4}=\\{\\{1,3,4\\},\\{2,3,5\\}\\}$\n",
    "$S_{5}=\\emptyset$\n",
    "$U_{5}=U_{4}$\n",
    "\n"
   ]
  },
  {
   "cell_type": "code",
   "execution_count": 1,
   "metadata": {},
   "outputs": [
    {
     "name": "stdout",
     "output_type": "stream",
     "text": [
      "{{9, 5}}"
     ]
    }
   ],
   "source": [
    "from pycliques.simplicial import SimplicialComplex\n",
    "\n",
    "def msimp(i, j, n):\n",
    "    return {x % n for x in range(i,j+1)}\n",
    "\n",
    "def facets(n, k):\n",
    "    return [msimp(i, i+k, n) for i in range(n)]\n",
    "\n",
    "def nerve_complex(n, k):\n",
    "    fac_set = facets(n,k)\n",
    "    return SimplicialComplex(set(range(n)), facet_set=fac_set)\n",
    "\n",
    "nerve_complex(13, 4).dong_matching()"
   ]
  },
  {
   "cell_type": "markdown",
   "metadata": {},
   "source": [
    "Conjecture: After applying Dong's matching to $\\mathcal{N}(n,3)$, we obtain $\\{\\{n-6,n-3\\}\\}$ as set of critical cells for $n\\geq 7$.\n",
    "\n"
   ]
  }
 ],
 "metadata": {
  "kernelspec": {
   "display_name": "Python 3",
   "language": "python",
   "name": "python3"
  },
  "language_info": {
   "codemirror_mode": {
    "name": "ipython",
    "version": 3
   },
   "file_extension": ".py",
   "mimetype": "text/x-python",
   "name": "python",
   "nbconvert_exporter": "python",
   "pygments_lexer": "ipython3",
   "version": "3.9.2"
  },
  "org": null
 },
 "nbformat": 4,
 "nbformat_minor": 1
}
